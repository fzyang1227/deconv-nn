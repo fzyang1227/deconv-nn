{
 "cells": [
  {
   "cell_type": "code",
   "execution_count": 6,
   "metadata": {},
   "outputs": [
    {
     "ename": "RuntimeError",
     "evalue": "Dataset not found or incomplete. Please make sure all required folders for the specified \"split\" and \"mode\" are inside the \"root\" directory",
     "output_type": "error",
     "traceback": [
      "\u001b[0;31m---------------------------------------------------------------------------\u001b[0m",
      "\u001b[0;31mRuntimeError\u001b[0m                              Traceback (most recent call last)",
      "\u001b[1;32m/home/fyang/repos/deconv-nn/nn.ipynb Cell 1\u001b[0m line \u001b[0;36m9\n\u001b[1;32m      <a href='vscode-notebook-cell:/home/fyang/repos/deconv-nn/nn.ipynb#W0sZmlsZQ%3D%3D?line=5'>6</a>\u001b[0m \u001b[39mimport\u001b[39;00m \u001b[39mtorchvision\u001b[39;00m\n\u001b[1;32m      <a href='vscode-notebook-cell:/home/fyang/repos/deconv-nn/nn.ipynb#W0sZmlsZQ%3D%3D?line=6'>7</a>\u001b[0m \u001b[39mfrom\u001b[39;00m \u001b[39mtorchvision\u001b[39;00m \u001b[39mimport\u001b[39;00m datasets, transforms\n\u001b[0;32m----> <a href='vscode-notebook-cell:/home/fyang/repos/deconv-nn/nn.ipynb#W0sZmlsZQ%3D%3D?line=8'>9</a>\u001b[0m city_train \u001b[39m=\u001b[39m datasets\u001b[39m.\u001b[39;49mCityscapes(\u001b[39m'\u001b[39;49m\u001b[39m./data/\u001b[39;49m\u001b[39m'\u001b[39;49m, split\u001b[39m=\u001b[39;49m\u001b[39m'\u001b[39;49m\u001b[39mtrain\u001b[39;49m\u001b[39m'\u001b[39;49m, mode\u001b[39m=\u001b[39;49m\u001b[39m'\u001b[39;49m\u001b[39mfine\u001b[39;49m\u001b[39m'\u001b[39;49m, transform\u001b[39m=\u001b[39;49mtransforms\u001b[39m.\u001b[39;49mToTensor(), target_type\u001b[39m=\u001b[39;49m\u001b[39m'\u001b[39;49m\u001b[39msemantic\u001b[39;49m\u001b[39m'\u001b[39;49m)\n\u001b[1;32m     <a href='vscode-notebook-cell:/home/fyang/repos/deconv-nn/nn.ipynb#W0sZmlsZQ%3D%3D?line=9'>10</a>\u001b[0m city_test \u001b[39m=\u001b[39m datasets\u001b[39m.\u001b[39mCityscapes(\u001b[39m'\u001b[39m\u001b[39m./data/\u001b[39m\u001b[39m'\u001b[39m, split\u001b[39m=\u001b[39m\u001b[39m'\u001b[39m\u001b[39mtest\u001b[39m\u001b[39m'\u001b[39m, mode\u001b[39m=\u001b[39m\u001b[39m'\u001b[39m\u001b[39mfine\u001b[39m\u001b[39m'\u001b[39m, transform\u001b[39m=\u001b[39mtransforms\u001b[39m.\u001b[39mToTensor(), target_type\u001b[39m=\u001b[39m\u001b[39m'\u001b[39m\u001b[39msemantic\u001b[39m\u001b[39m'\u001b[39m)\n\u001b[1;32m     <a href='vscode-notebook-cell:/home/fyang/repos/deconv-nn/nn.ipynb#W0sZmlsZQ%3D%3D?line=10'>11</a>\u001b[0m city_val \u001b[39m=\u001b[39m datasets\u001b[39m.\u001b[39mCityscapes(\u001b[39m'\u001b[39m\u001b[39m./data/\u001b[39m\u001b[39m'\u001b[39m, split\u001b[39m=\u001b[39m\u001b[39m'\u001b[39m\u001b[39mval\u001b[39m\u001b[39m'\u001b[39m, mode\u001b[39m=\u001b[39m\u001b[39m'\u001b[39m\u001b[39mfine\u001b[39m\u001b[39m'\u001b[39m, transform\u001b[39m=\u001b[39mtransforms\u001b[39m.\u001b[39mToTensor(), target_type\u001b[39m=\u001b[39m\u001b[39m'\u001b[39m\u001b[39msemantic\u001b[39m\u001b[39m'\u001b[39m)\n",
      "File \u001b[0;32m~/repos/deconv-nn/ds/lib/python3.10/site-packages/torchvision/datasets/cityscapes.py:155\u001b[0m, in \u001b[0;36mCityscapes.__init__\u001b[0;34m(self, root, split, mode, target_type, transform, target_transform, transforms)\u001b[0m\n\u001b[1;32m    153\u001b[0m         extract_archive(from_path\u001b[39m=\u001b[39mtarget_dir_zip, to_path\u001b[39m=\u001b[39m\u001b[39mself\u001b[39m\u001b[39m.\u001b[39mroot)\n\u001b[1;32m    154\u001b[0m     \u001b[39melse\u001b[39;00m:\n\u001b[0;32m--> 155\u001b[0m         \u001b[39mraise\u001b[39;00m \u001b[39mRuntimeError\u001b[39;00m(\n\u001b[1;32m    156\u001b[0m             \u001b[39m\"\u001b[39m\u001b[39mDataset not found or incomplete. Please make sure all required folders for the\u001b[39m\u001b[39m\"\u001b[39m\n\u001b[1;32m    157\u001b[0m             \u001b[39m'\u001b[39m\u001b[39m specified \u001b[39m\u001b[39m\"\u001b[39m\u001b[39msplit\u001b[39m\u001b[39m\"\u001b[39m\u001b[39m and \u001b[39m\u001b[39m\"\u001b[39m\u001b[39mmode\u001b[39m\u001b[39m\"\u001b[39m\u001b[39m are inside the \u001b[39m\u001b[39m\"\u001b[39m\u001b[39mroot\u001b[39m\u001b[39m\"\u001b[39m\u001b[39m directory\u001b[39m\u001b[39m'\u001b[39m\n\u001b[1;32m    158\u001b[0m         )\n\u001b[1;32m    160\u001b[0m \u001b[39mfor\u001b[39;00m city \u001b[39min\u001b[39;00m os\u001b[39m.\u001b[39mlistdir(\u001b[39mself\u001b[39m\u001b[39m.\u001b[39mimages_dir):\n\u001b[1;32m    161\u001b[0m     img_dir \u001b[39m=\u001b[39m os\u001b[39m.\u001b[39mpath\u001b[39m.\u001b[39mjoin(\u001b[39mself\u001b[39m\u001b[39m.\u001b[39mimages_dir, city)\n",
      "\u001b[0;31mRuntimeError\u001b[0m: Dataset not found or incomplete. Please make sure all required folders for the specified \"split\" and \"mode\" are inside the \"root\" directory"
     ]
    }
   ],
   "source": [
    "import numpy as np\n",
    "import matplotlib.pyplot as plt\n",
    "import torch\n",
    "from torch import nn\n",
    "from torch.utils.data import DataLoader\n",
    "import torchvision\n",
    "from torchvision import datasets, transforms\n",
    "\n",
    "\n",
    "\n",
    "city_train = datasets.Cityscapes('./data/', split='train', mode='fine', transform=transforms.ToTensor(), target_type='semantic')\n",
    "city_test = datasets.Cityscapes('./data/', split='test', mode='fine', transform=transforms.ToTensor(), target_type='semantic')\n",
    "city_val = datasets.Cityscapes('./data/', split='val', mode='fine', transform=transforms.ToTensor(), target_type='semantic')\n",
    "\n",
    "img, smnt = city_train[0]"
   ]
  },
  {
   "cell_type": "code",
   "execution_count": null,
   "metadata": {},
   "outputs": [],
   "source": []
  }
 ],
 "metadata": {
  "kernelspec": {
   "display_name": "Python 3",
   "language": "python",
   "name": "python3"
  },
  "language_info": {
   "codemirror_mode": {
    "name": "ipython",
    "version": 3
   },
   "file_extension": ".py",
   "mimetype": "text/x-python",
   "name": "python",
   "nbconvert_exporter": "python",
   "pygments_lexer": "ipython3",
   "version": "3.10.12"
  }
 },
 "nbformat": 4,
 "nbformat_minor": 2
}
